{
  "nbformat": 4,
  "nbformat_minor": 0,
  "metadata": {
    "colab": {
      "name": "Capstone Project.ipynb",
      "provenance": []
    },
    "kernelspec": {
      "name": "python3",
      "display_name": "Python 3"
    }
  },
  "cells": [
    {
      "cell_type": "markdown",
      "metadata": {
        "id": "6Nqn3GGGQRy2",
        "colab_type": "text"
      },
      "source": [
        "#This notebook is going to be used for the Capstone project."
      ]
    },
    {
      "cell_type": "code",
      "metadata": {
        "id": "K4zfajK1P58w",
        "colab_type": "code",
        "colab": {
          "base_uri": "https://localhost:8080/",
          "height": 34
        },
        "outputId": "47faabae-b70e-467c-f18a-547bd96a3695"
      },
      "source": [
        "import pandas as pd\n",
        "import numpy as np\n",
        "print(\"Helo Capstone Project Course!\")"
      ],
      "execution_count": 1,
      "outputs": [
        {
          "output_type": "stream",
          "text": [
            "Helo Capstone Project Course!\n"
          ],
          "name": "stdout"
        }
      ]
    },
    {
      "cell_type": "code",
      "metadata": {
        "id": "i_vtBRNmQAMx",
        "colab_type": "code",
        "colab": {}
      },
      "source": [
        ""
      ],
      "execution_count": 0,
      "outputs": []
    }
  ]
}